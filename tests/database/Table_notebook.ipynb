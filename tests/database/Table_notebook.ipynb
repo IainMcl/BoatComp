{
 "metadata": {
  "language_info": {
   "codemirror_mode": {
    "name": "ipython",
    "version": 3
   },
   "file_extension": ".py",
   "mimetype": "text/x-python",
   "name": "python",
   "nbconvert_exporter": "python",
   "pygments_lexer": "ipython3",
   "version": "3.9.1-final"
  },
  "orig_nbformat": 2,
  "kernelspec": {
   "name": "python3",
   "display_name": "Python 3.9.1 64-bit ('ENV')",
   "metadata": {
    "interpreter": {
     "hash": "631a30651acf27bddc7fbf1c54dc164d3749ad83e17a7b8cbe78b788de2fc6d0"
    }
   }
  }
 },
 "nbformat": 4,
 "nbformat_minor": 2,
 "cells": [
  {
   "source": [
    "# Test Table "
   ],
   "cell_type": "markdown",
   "metadata": {}
  },
  {
   "source": [
    "## Info\n",
    "\n",
    "Test Table functionality without needing to restart everything over and over again."
   ],
   "cell_type": "markdown",
   "metadata": {}
  },
  {
   "cell_type": "code",
   "execution_count": 1,
   "metadata": {},
   "outputs": [],
   "source": [
    "from database.Table import Table\n",
    "from typing import Type, Union"
   ]
  },
  {
   "cell_type": "code",
   "execution_count": 6,
   "metadata": {},
   "outputs": [],
   "source": [
    "t: Type[Table] = Table(\"test_table\", fields=[\n",
    "    (\"arg1\", \"INTEGER\"),\n",
    "    (\"arg2\", \"REAL\"),\n",
    "    (\"arg3\", \"NULL\"),\n",
    "    (\"arg4\", \"TEXT\"),\n",
    "    (\"arg5\", \"BLOB\"),\n",
    "], db=\"./test.db\")"
   ]
  },
  {
   "source": [
    "Check get_field_names(as_string=True):\n",
    "    'arg1, arg2, arg3, arg4, arg5'\n",
    "    "
   ],
   "cell_type": "markdown",
   "metadata": {}
  },
  {
   "cell_type": "code",
   "execution_count": 7,
   "metadata": {},
   "outputs": [
    {
     "output_type": "execute_result",
     "data": {
      "text/plain": [
       "'arg1, arg2, arg3, arg4, arg5'"
      ]
     },
     "metadata": {},
     "execution_count": 7
    }
   ],
   "source": [
    "t.get_field_names(as_string=True)"
   ]
  },
  {
   "source": [
    "Check get_field_names(as_string=False): \\['arg1', 'arg2', 'arg3', 'arg4', 'arg5'\\]"
   ],
   "cell_type": "markdown",
   "metadata": {}
  },
  {
   "cell_type": "code",
   "execution_count": 8,
   "metadata": {},
   "outputs": [
    {
     "output_type": "execute_result",
     "data": {
      "text/plain": [
       "['arg1', 'arg2', 'arg3', 'arg4', 'arg5']"
      ]
     },
     "metadata": {},
     "execution_count": 8
    }
   ],
   "source": [
    "t.get_field_names(as_string=False)"
   ]
  },
  {
   "source": [
    "Check get_field_types(): \\['INTEGER', 'REAL', 'NULL', 'TEXT', 'BLOB'\\]"
   ],
   "cell_type": "markdown",
   "metadata": {}
  },
  {
   "cell_type": "code",
   "execution_count": 10,
   "metadata": {},
   "outputs": [
    {
     "output_type": "execute_result",
     "data": {
      "text/plain": [
       "['INTEGER', 'REAL', 'NULL', 'TEXT', 'BLOB']"
      ]
     },
     "metadata": {},
     "execution_count": 10
    }
   ],
   "source": [
    "t.get_field_types()"
   ]
  },
  {
   "source": [
    "Check get_fields: \\[('arg1', 'INTEGER'),\n",
    " ('arg2', 'REAL'),\n",
    " ('arg3', 'NULL'),\n",
    " ('arg4', 'TEXT'),\n",
    " ('arg5', 'BLOB')\\]"
   ],
   "cell_type": "markdown",
   "metadata": {}
  },
  {
   "cell_type": "code",
   "execution_count": 12,
   "metadata": {},
   "outputs": [
    {
     "output_type": "execute_result",
     "data": {
      "text/plain": [
       "[('arg1', 'INTEGER'),\n",
       " ('arg2', 'REAL'),\n",
       " ('arg3', 'NULL'),\n",
       " ('arg4', 'TEXT'),\n",
       " ('arg5', 'BLOB')]"
      ]
     },
     "metadata": {},
     "execution_count": 12
    }
   ],
   "source": [
    "t.get_fields()"
   ]
  },
  {
   "cell_type": "code",
   "execution_count": null,
   "metadata": {},
   "outputs": [],
   "source": []
  }
 ]
}